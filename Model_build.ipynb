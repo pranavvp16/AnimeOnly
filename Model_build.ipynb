{
  "cells": [
    {
      "cell_type": "markdown",
      "metadata": {
        "colab_type": "text",
        "id": "view-in-github"
      },
      "source": [
        "<a href=\"https://colab.research.google.com/github/pranavvp16/AnimeOnly/blob/main/Model_build.ipynb\" target=\"_parent\"><img src=\"https://colab.research.google.com/assets/colab-badge.svg\" alt=\"Open In Colab\"/></a>"
      ]
    },
    {
      "cell_type": "code",
      "execution_count": null,
      "metadata": {
        "id": "DVobujd7WmWf"
      },
      "outputs": [],
      "source": [
        "import numpy as np\n",
        "import pandas as pd "
      ]
    },
    {
      "cell_type": "code",
      "execution_count": null,
      "metadata": {
        "id": "3Oqd49_2Wumn"
      },
      "outputs": [],
      "source": [
        "#from google.colab import drive\n",
        "#drive.mount('/content/drive')"
      ]
    },
    {
      "cell_type": "code",
      "execution_count": null,
      "metadata": {
        "id": "PDxnTII6W3C1"
      },
      "outputs": [],
      "source": [
        "#data_frame = pd.read_csv(\"drive/MyDrive/animeflv.csv\")\n",
        "data_frame = pd.read_scv(\"data/animeflv.csv\")"
      ]
    },
    {
      "cell_type": "code",
      "execution_count": null,
      "metadata": {
        "id": "1evjYJV8YKKP"
      },
      "outputs": [],
      "source": [
        "data_frame.info()"
      ]
    },
    {
      "cell_type": "code",
      "execution_count": null,
      "metadata": {
        "id": "QuuHHMtLYE7y"
      },
      "outputs": [],
      "source": [
        "tans=data_frame['description'][0]"
      ]
    },
    {
      "cell_type": "code",
      "execution_count": null,
      "metadata": {
        "id": "UoM8q_UZdxfw"
      },
      "outputs": [],
      "source": [
        "data_frame.dropna(inplace=True)"
      ]
    },
    {
      "cell_type": "code",
      "execution_count": null,
      "metadata": {
        "id": "wyRqJMJEfIZi"
      },
      "outputs": [],
      "source": [
        "#data_frame['description'].head()"
      ]
    },
    {
      "cell_type": "code",
      "execution_count": null,
      "metadata": {
        "id": "1bTWOtbqblBD"
      },
      "outputs": [],
      "source": [
        "pip install googletrans==3.1.0a0"
      ]
    },
    {
      "cell_type": "code",
      "execution_count": null,
      "metadata": {
        "id": "Ir6jFc7sel-9"
      },
      "outputs": [],
      "source": [
        "import googletrans\n",
        "translator = googletrans.Translator()\n",
        "df1 = data_frame['description'].apply(translator.translate, src='es', dest='en').apply(getattr, args=('text',))\n",
        "#print(df1)"
      ]
    },
    {
      "cell_type": "code",
      "execution_count": null,
      "metadata": {
        "id": "gwjtTI2obIws"
      },
      "outputs": [],
      "source": [
        "data_frame[\"description\"] = df1"
      ]
    },
    {
      "cell_type": "code",
      "execution_count": null,
      "metadata": {
        "id": "6nBM1zGffOUP"
      },
      "outputs": [],
      "source": [
        "data_frame[\"genders\"] = data_frame['genders'].apply(translator.translate, src='es', dest='en').apply(getattr, args=('text',))"
      ]
    },
    {
      "cell_type": "code",
      "execution_count": null,
      "metadata": {
        "id": "cHh4OYR_gHWZ"
      },
      "outputs": [],
      "source": [
        "data_frame.rename(columns ={'genders':'genres'},inplace = True)"
      ]
    },
    {
      "cell_type": "code",
      "execution_count": null,
      "metadata": {
        "id": "ZwbpiGdlhqVO"
      },
      "outputs": [],
      "source": [
        "#taking data for training set \n",
        "anime_df = data_frame[[\"title\",\"description\",\"genres\",\"image\"]]"
      ]
    },
    {
      "cell_type": "code",
      "execution_count": null,
      "metadata": {
        "id": "QgmmDGjmjeHJ"
      },
      "outputs": [],
      "source": [
        "anime_df.head()"
      ]
    },
    {
      "cell_type": "code",
      "execution_count": null,
      "metadata": {
        "id": "kbNEyaQ_pN1f"
      },
      "outputs": [],
      "source": [
        "anime_df.drop_duplicates(inplace = True)"
      ]
    },
    {
      "cell_type": "code",
      "execution_count": null,
      "metadata": {
        "id": "daYC413Ljg-o"
      },
      "outputs": [],
      "source": [
        "anime_df[\"genres\"].value_counts()"
      ]
    },
    {
      "cell_type": "code",
      "execution_count": null,
      "metadata": {
        "id": "UxVq6iHNj8aW"
      },
      "outputs": [],
      "source": [
        "anime_df[\"image\"].value_counts()"
      ]
    },
    {
      "cell_type": "code",
      "execution_count": null,
      "metadata": {
        "id": "s6zGgdgNkB_S"
      },
      "outputs": [],
      "source": [
        "#import urllib.request\n",
        "\n",
        "#get_url= urllib.request.urlopen('https://www3.animeflv.net/uploads/animes/covers/3379.jpg')\n",
        "\n",
        "#print(\"Response Status: \"+ str(get_url.getcode()) )"
      ]
    },
    {
      "cell_type": "code",
      "execution_count": null,
      "metadata": {
        "id": "3cFNvd5imPn3"
      },
      "outputs": [],
      "source": [
        "anime_df[\"description\"] = [i.replace(\"'\",\"\")for i in anime_df[\"description\"]]\n",
        "anime_df[\"description\"] = [i.replace(\",\",\"\")for i in anime_df[\"description\"]]\n",
        "anime_df[\"description\"] = [i.replace('-',\"\")for i in anime_df[\"description\"]]\n",
        "anime_df[\"title\"] = [i.replace(\"Pelicula\",\"Movie\")for i in anime_df[\"title\"]]"
      ]
    },
    {
      "cell_type": "code",
      "execution_count": null,
      "metadata": {
        "id": "_7Nr3Ucrm0qo"
      },
      "outputs": [],
      "source": [
        "anime_df[\"title\"].head()"
      ]
    },
    {
      "cell_type": "code",
      "execution_count": null,
      "metadata": {
        "id": "aUYi-vqwm18y"
      },
      "outputs": [],
      "source": [
        "anime_df[\"description\"]=anime_df[\"description\"].apply(lambda x:x.split())\n",
        "anime_df[\"genres\"]=anime_df[\"genres\"].apply(lambda x:x.split())"
      ]
    },
    {
      "cell_type": "code",
      "execution_count": null,
      "metadata": {
        "id": "ccEYtOHznC4O"
      },
      "outputs": [],
      "source": [
        "anime_df['description'].head()"
      ]
    },
    {
      "cell_type": "code",
      "execution_count": null,
      "metadata": {
        "id": "wyRFTwkAnLvK"
      },
      "outputs": [],
      "source": [
        "anime_df['genres'].head()"
      ]
    },
    {
      "cell_type": "code",
      "execution_count": null,
      "metadata": {
        "id": "6ZModKSpx6ps"
      },
      "outputs": [],
      "source": [
        "#anime_df['title'] = data_frame['title']"
      ]
    },
    {
      "cell_type": "code",
      "execution_count": null,
      "metadata": {
        "id": "6FWyMOYuoAp0"
      },
      "outputs": [],
      "source": [
        "anime_df[\"tags\"] = anime_df['description'] + anime_df['genres']"
      ]
    },
    {
      "cell_type": "code",
      "execution_count": null,
      "metadata": {
        "id": "sCXl8ULhoNNX"
      },
      "outputs": [],
      "source": [
        "anime_df.isna().sum()"
      ]
    },
    {
      "cell_type": "code",
      "execution_count": null,
      "metadata": {
        "id": "_MI8iIkSoQD-"
      },
      "outputs": [],
      "source": [
        "#multi_chars = \"[']\"\n",
        "#def convert(lst , sym): \n",
        " #for i in lst:\n",
        "  #temp_string = i\n",
        "  #for ch in sym:\n",
        "    #temp_string = temp_string.replace(ch,\"\")\n",
        "    #for j in temp_string:\n",
        "      #dta = []\n",
        "      #dta.append(j)\n",
        " #return dta "
      ]
    },
    {
      "cell_type": "code",
      "execution_count": null,
      "metadata": {
        "id": "yVMRccOkoYfo"
      },
      "outputs": [],
      "source": [
        "anime_df[\"tags\"]=anime_df[\"tags\"].apply(lambda x:[i.replace(\" \",\"\")for i in x])\n",
        "anime_df[\"tags\"] = anime_df[\"tags\"].apply(lambda x:\" \".join(x))"
      ]
    },
    {
      "cell_type": "code",
      "execution_count": null,
      "metadata": {
        "id": "NTfa8LYyno0e"
      },
      "outputs": [],
      "source": [
        "anime_df.head()"
      ]
    },
    {
      "cell_type": "code",
      "execution_count": null,
      "metadata": {
        "id": "CrawozSRpF7Q"
      },
      "outputs": [],
      "source": [
        "anime_df=anime_df.reset_index(drop=True)"
      ]
    },
    {
      "cell_type": "code",
      "execution_count": null,
      "metadata": {
        "id": "TtsSInX_qkbW"
      },
      "outputs": [],
      "source": [
        "animef_df = anime_df[[\"title\",\"tags\"]]"
      ]
    },
    {
      "cell_type": "code",
      "execution_count": null,
      "metadata": {
        "id": "DIcW8fF6nslu"
      },
      "outputs": [],
      "source": [
        "animef_df.head()"
      ]
    },
    {
      "cell_type": "code",
      "execution_count": null,
      "metadata": {
        "id": "Lb7_wL3oqpQ3"
      },
      "outputs": [],
      "source": [
        "animef_df[\"tags\"] = anime_df[\"tags\"].apply(lambda x:x.lower())"
      ]
    },
    {
      "cell_type": "code",
      "execution_count": null,
      "metadata": {
        "id": "LnrfTBt3q0g4"
      },
      "outputs": [],
      "source": [
        "from sklearn.feature_extraction.text import CountVectorizer\n",
        "cv=CountVectorizer(max_features=4000,stop_words=\"english\")\n",
        "from nltk.stem.porter import PorterStemmer \n",
        "ps=PorterStemmer()"
      ]
    },
    {
      "cell_type": "code",
      "execution_count": null,
      "metadata": {
        "id": "5v9J6hjMrSSv"
      },
      "outputs": [],
      "source": [
        "ps.stem(\"abilities\")"
      ]
    },
    {
      "cell_type": "code",
      "execution_count": null,
      "metadata": {
        "id": "GzceMt3brWWn"
      },
      "outputs": [],
      "source": [
        "def stem(text):\n",
        "  y=[]\n",
        "\n",
        "  for i in text.split():\n",
        "    y.append(ps.stem(i))\n",
        "\n",
        "  return \" \".join(y) "
      ]
    },
    {
      "cell_type": "code",
      "execution_count": null,
      "metadata": {
        "id": "ihXhaKsQnahw"
      },
      "outputs": [],
      "source": [
        "animef_df[\"tags\"][1]"
      ]
    },
    {
      "cell_type": "code",
      "execution_count": null,
      "metadata": {
        "id": "Phhn6uCfredp"
      },
      "outputs": [],
      "source": [
        "stem(animef_df[\"tags\"][1])"
      ]
    },
    {
      "cell_type": "code",
      "execution_count": null,
      "metadata": {
        "id": "uP1Y2jvnsHz7"
      },
      "outputs": [],
      "source": [
        "animef_df[\"tags\"]=animef_df[\"tags\"].apply(stem)"
      ]
    },
    {
      "cell_type": "code",
      "execution_count": null,
      "metadata": {
        "id": "sc4uo9M1scTO"
      },
      "outputs": [],
      "source": [
        "vectors = cv.fit_transform(animef_df[\"tags\"]).toarray()"
      ]
    },
    {
      "cell_type": "code",
      "execution_count": null,
      "metadata": {
        "id": "5hMmBliLsgz5"
      },
      "outputs": [],
      "source": [
        "from sklearn.metrics.pairwise import cosine_similarity\n",
        "cosine_similarity(vectors).shape"
      ]
    },
    {
      "cell_type": "code",
      "execution_count": null,
      "metadata": {
        "id": "tPkiF7Vpsji2"
      },
      "outputs": [],
      "source": [
        "similarity = cosine_similarity(vectors)"
      ]
    },
    {
      "cell_type": "code",
      "execution_count": null,
      "metadata": {
        "id": "q81m2YBlsnPe"
      },
      "outputs": [],
      "source": [
        "similarity[0]"
      ]
    },
    {
      "cell_type": "code",
      "execution_count": null,
      "metadata": {
        "id": "VxZ5PqK_srPx"
      },
      "outputs": [],
      "source": [
        "sorted(list(enumerate(similarity[0])),reverse=True,key=lambda x:x[1])"
      ]
    },
    {
      "cell_type": "code",
      "execution_count": null,
      "metadata": {
        "id": "nnDHh-M7suas"
      },
      "outputs": [],
      "source": [
        "def recommend(anime):\n",
        "  anime_index = animef_df[animef_df['title']==anime].index[0]\n",
        "  distances = similarity[anime_index]\n",
        "  anime_list = sorted(list(enumerate(distances)),reverse=True,key=lambda x:x[1])[1:6]\n",
        "\n",
        "  for i in anime_list:\n",
        "    print(animef_df.iloc[i[0]].title)"
      ]
    },
    {
      "cell_type": "code",
      "execution_count": null,
      "metadata": {
        "id": "NIRklyDdtCd6"
      },
      "outputs": [],
      "source": [
        "recommend('Fushigi no Umi no Nadia')"
      ]
    },
    {
      "cell_type": "code",
      "execution_count": null,
      "metadata": {
        "id": "8vmdozZmtE4Q"
      },
      "outputs": [],
      "source": [
        "import pickle \n",
        "pickle.dump(animef_df.to_dict(),open('anime_dict.pkl','wb'))\n",
        "pickle.dump(animef_df,open('anime.pkl','wb'))\n",
        "pickle.dump(similarity,open('similarity.pkl','wb'))"
      ]
    },
    {
      "cell_type": "code",
      "execution_count": null,
      "metadata": {
        "id": "DDQkDNusILMA"
      },
      "outputs": [],
      "source": [
        "pickle.dump(image_urls,open('image_urls.pkl','wb'))"
      ]
    },
    {
      "cell_type": "code",
      "execution_count": null,
      "metadata": {
        "id": "k3BQRSzoIYQL"
      },
      "outputs": [],
      "source": [
        "image_urls[0]"
      ]
    }
  ],
  "metadata": {
    "colab": {
      "authorship_tag": "ABX9TyMyC9VP5zAM+TTTsTPUk+g1",
      "collapsed_sections": [],
      "include_colab_link": true,
      "provenance": []
    },
    "kernelspec": {
      "display_name": "Python 3.10.8 64-bit",
      "language": "python",
      "name": "python3"
    },
    "language_info": {
      "name": "python",
      "version": "3.10.8"
    },
    "vscode": {
      "interpreter": {
        "hash": "aee8b7b246df8f9039afb4144a1f6fd8d2ca17a180786b69acc140d282b71a49"
      }
    }
  },
  "nbformat": 4,
  "nbformat_minor": 0
}
