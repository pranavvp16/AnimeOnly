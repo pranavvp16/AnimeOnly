{
  "nbformat": 4,
  "nbformat_minor": 0,
  "metadata": {
    "colab": {
      "provenance": [],
      "collapsed_sections": [],
      "authorship_tag": "ABX9TyOLtU/gzMJzWlGVFNlry9Fg",
      "include_colab_link": true
    },
    "kernelspec": {
      "name": "python3",
      "display_name": "Python 3"
    },
    "language_info": {
      "name": "python"
    }
  },
  "cells": [
    {
      "cell_type": "markdown",
      "metadata": {
        "id": "view-in-github",
        "colab_type": "text"
      },
      "source": [
        "<a href=\"https://colab.research.google.com/github/pranavvp16/End-to-End-Anime-Recomendation-Model/blob/main/Model_build.ipynb\" target=\"_parent\"><img src=\"https://colab.research.google.com/assets/colab-badge.svg\" alt=\"Open In Colab\"/></a>"
      ]
    },
    {
      "cell_type": "code",
      "execution_count": null,
      "metadata": {
        "id": "DVobujd7WmWf"
      },
      "outputs": [],
      "source": [
        "import numpy as np\n",
        "import pandas as pd "
      ]
    },
    {
      "cell_type": "code",
      "source": [
        "from google.colab import drive\n",
        "drive.mount('/content/drive')"
      ],
      "metadata": {
        "colab": {
          "base_uri": "https://localhost:8080/"
        },
        "id": "3Oqd49_2Wumn",
        "outputId": "40507d2f-9261-4658-c557-d477528555e0"
      },
      "execution_count": null,
      "outputs": [
        {
          "output_type": "stream",
          "name": "stdout",
          "text": [
            "Mounted at /content/drive\n"
          ]
        }
      ]
    },
    {
      "cell_type": "code",
      "source": [
        "data_frame = pd.read_csv(\"drive/MyDrive/animeflv.csv\")"
      ],
      "metadata": {
        "id": "PDxnTII6W3C1"
      },
      "execution_count": null,
      "outputs": []
    },
    {
      "cell_type": "code",
      "source": [
        "data_frame.info()"
      ],
      "metadata": {
        "colab": {
          "base_uri": "https://localhost:8080/"
        },
        "id": "1evjYJV8YKKP",
        "outputId": "f6899c7c-196b-4019-d2a0-b9ebcb56359a"
      },
      "execution_count": null,
      "outputs": [
        {
          "output_type": "stream",
          "name": "stdout",
          "text": [
            "<class 'pandas.core.frame.DataFrame'>\n",
            "RangeIndex: 3409 entries, 0 to 3408\n",
            "Data columns (total 12 columns):\n",
            " #   Column       Non-Null Count  Dtype  \n",
            "---  ------       --------------  -----  \n",
            " 0   title        3409 non-null   object \n",
            " 1   description  3189 non-null   object \n",
            " 2   year         3409 non-null   int64  \n",
            " 3   type         3409 non-null   object \n",
            " 4   rate_start   3409 non-null   float64\n",
            " 5   votes        3409 non-null   int64  \n",
            " 6   status       3409 non-null   object \n",
            " 7   followers    3409 non-null   int64  \n",
            " 8   episodes     3409 non-null   int64  \n",
            " 9   genders      3403 non-null   object \n",
            " 10  url_anime    3409 non-null   object \n",
            " 11  image        3409 non-null   object \n",
            "dtypes: float64(1), int64(4), object(7)\n",
            "memory usage: 319.7+ KB\n"
          ]
        }
      ]
    },
    {
      "cell_type": "code",
      "source": [
        "tans=data_frame['description'][0]"
      ],
      "metadata": {
        "id": "QuuHHMtLYE7y"
      },
      "execution_count": null,
      "outputs": []
    },
    {
      "cell_type": "code",
      "source": [
        "data_frame.dropna(inplace=True)"
      ],
      "metadata": {
        "id": "UoM8q_UZdxfw"
      },
      "execution_count": null,
      "outputs": []
    },
    {
      "cell_type": "code",
      "source": [
        "#data_frame['description'].head()"
      ],
      "metadata": {
        "id": "wyRqJMJEfIZi"
      },
      "execution_count": null,
      "outputs": []
    },
    {
      "cell_type": "code",
      "source": [
        "pip install googletrans==3.1.0a0"
      ],
      "metadata": {
        "id": "1bTWOtbqblBD"
      },
      "execution_count": null,
      "outputs": []
    },
    {
      "cell_type": "code",
      "source": [
        "import googletrans\n",
        "translator = googletrans.Translator()\n",
        "df1 = data_frame['description'].apply(translator.translate, src='es', dest='en').apply(getattr, args=('text',))\n",
        "#print(df1)"
      ],
      "metadata": {
        "id": "Ir6jFc7sel-9"
      },
      "execution_count": null,
      "outputs": []
    },
    {
      "cell_type": "code",
      "source": [
        "data_frame[\"description\"] = df1"
      ],
      "metadata": {
        "id": "gwjtTI2obIws"
      },
      "execution_count": null,
      "outputs": []
    },
    {
      "cell_type": "code",
      "source": [
        "data_frame[\"genders\"] = data_frame['genders'].apply(translator.translate, src='es', dest='en').apply(getattr, args=('text',))"
      ],
      "metadata": {
        "id": "6nBM1zGffOUP"
      },
      "execution_count": null,
      "outputs": []
    },
    {
      "cell_type": "code",
      "source": [
        "data_frame.rename(columns ={'genders':'genres'},inplace = True)"
      ],
      "metadata": {
        "id": "cHh4OYR_gHWZ"
      },
      "execution_count": null,
      "outputs": []
    },
    {
      "cell_type": "code",
      "source": [
        "#taking data for training set \n",
        "anime_df = data_frame[[\"title\",\"description\",\"genres\",\"image\"]]"
      ],
      "metadata": {
        "id": "ZwbpiGdlhqVO"
      },
      "execution_count": null,
      "outputs": []
    },
    {
      "cell_type": "code",
      "source": [
        "anime_df.head()"
      ],
      "metadata": {
        "colab": {
          "base_uri": "https://localhost:8080/",
          "height": 337
        },
        "id": "QgmmDGjmjeHJ",
        "outputId": "4714e433-42f9-4f60-ca1f-9c9aeb4b25a9"
      },
      "execution_count": null,
      "outputs": [
        {
          "output_type": "execute_result",
          "data": {
            "text/plain": [
              "                                               title  \\\n",
              "1  Dragon Ball Z Pelicula 03: La batalla más gran...   \n",
              "2                                   Lodoss-tou Senki   \n",
              "3                            Fushigi no Umi no Nadia   \n",
              "4  Dragon Ball Z Pelicula 02: El hombre más fuert...   \n",
              "5                               Umezu Kazuo no Noroi   \n",
              "\n",
              "                                         description  \\\n",
              "1  A band of deserters from Frieza's army led by ...   \n",
              "2  The story centers around a young man named Par...   \n",
              "3  The industrial revolution is over and the worl...   \n",
              "4  The situation begins with Dr. Uir?, who is rev...   \n",
              "5  Two separate stories. In the first titled \"Wha...   \n",
              "\n",
              "                                              genres  \\\n",
              "1  Adventure,Science Fiction,Comedy,Fantasy,Shounen,   \n",
              "2  Action,Adventure,Fantasy,Magic,Shounen,Superna...   \n",
              "3  Adventure,Science Fiction,Comedy,Historical,Ro...   \n",
              "4  Adventure,Science Fiction,Comedy,Fantasy,Shounen,   \n",
              "5                                            Terror,   \n",
              "\n",
              "                                               image  \n",
              "1  https://www3.animeflv.net/uploads/animes/cover...  \n",
              "2  https://www3.animeflv.net/uploads/animes/cover...  \n",
              "3  https://www3.animeflv.net/uploads/animes/cover...  \n",
              "4  https://www3.animeflv.net/uploads/animes/cover...  \n",
              "5  https://www3.animeflv.net/uploads/animes/cover...  "
            ],
            "text/html": [
              "\n",
              "  <div id=\"df-ca4136af-828a-4f31-83bc-00bb28e612cd\">\n",
              "    <div class=\"colab-df-container\">\n",
              "      <div>\n",
              "<style scoped>\n",
              "    .dataframe tbody tr th:only-of-type {\n",
              "        vertical-align: middle;\n",
              "    }\n",
              "\n",
              "    .dataframe tbody tr th {\n",
              "        vertical-align: top;\n",
              "    }\n",
              "\n",
              "    .dataframe thead th {\n",
              "        text-align: right;\n",
              "    }\n",
              "</style>\n",
              "<table border=\"1\" class=\"dataframe\">\n",
              "  <thead>\n",
              "    <tr style=\"text-align: right;\">\n",
              "      <th></th>\n",
              "      <th>title</th>\n",
              "      <th>description</th>\n",
              "      <th>genres</th>\n",
              "      <th>image</th>\n",
              "    </tr>\n",
              "  </thead>\n",
              "  <tbody>\n",
              "    <tr>\n",
              "      <th>1</th>\n",
              "      <td>Dragon Ball Z Pelicula 03: La batalla más gran...</td>\n",
              "      <td>A band of deserters from Frieza's army led by ...</td>\n",
              "      <td>Adventure,Science Fiction,Comedy,Fantasy,Shounen,</td>\n",
              "      <td>https://www3.animeflv.net/uploads/animes/cover...</td>\n",
              "    </tr>\n",
              "    <tr>\n",
              "      <th>2</th>\n",
              "      <td>Lodoss-tou Senki</td>\n",
              "      <td>The story centers around a young man named Par...</td>\n",
              "      <td>Action,Adventure,Fantasy,Magic,Shounen,Superna...</td>\n",
              "      <td>https://www3.animeflv.net/uploads/animes/cover...</td>\n",
              "    </tr>\n",
              "    <tr>\n",
              "      <th>3</th>\n",
              "      <td>Fushigi no Umi no Nadia</td>\n",
              "      <td>The industrial revolution is over and the worl...</td>\n",
              "      <td>Adventure,Science Fiction,Comedy,Historical,Ro...</td>\n",
              "      <td>https://www3.animeflv.net/uploads/animes/cover...</td>\n",
              "    </tr>\n",
              "    <tr>\n",
              "      <th>4</th>\n",
              "      <td>Dragon Ball Z Pelicula 02: El hombre más fuert...</td>\n",
              "      <td>The situation begins with Dr. Uir?, who is rev...</td>\n",
              "      <td>Adventure,Science Fiction,Comedy,Fantasy,Shounen,</td>\n",
              "      <td>https://www3.animeflv.net/uploads/animes/cover...</td>\n",
              "    </tr>\n",
              "    <tr>\n",
              "      <th>5</th>\n",
              "      <td>Umezu Kazuo no Noroi</td>\n",
              "      <td>Two separate stories. In the first titled \"Wha...</td>\n",
              "      <td>Terror,</td>\n",
              "      <td>https://www3.animeflv.net/uploads/animes/cover...</td>\n",
              "    </tr>\n",
              "  </tbody>\n",
              "</table>\n",
              "</div>\n",
              "      <button class=\"colab-df-convert\" onclick=\"convertToInteractive('df-ca4136af-828a-4f31-83bc-00bb28e612cd')\"\n",
              "              title=\"Convert this dataframe to an interactive table.\"\n",
              "              style=\"display:none;\">\n",
              "        \n",
              "  <svg xmlns=\"http://www.w3.org/2000/svg\" height=\"24px\"viewBox=\"0 0 24 24\"\n",
              "       width=\"24px\">\n",
              "    <path d=\"M0 0h24v24H0V0z\" fill=\"none\"/>\n",
              "    <path d=\"M18.56 5.44l.94 2.06.94-2.06 2.06-.94-2.06-.94-.94-2.06-.94 2.06-2.06.94zm-11 1L8.5 8.5l.94-2.06 2.06-.94-2.06-.94L8.5 2.5l-.94 2.06-2.06.94zm10 10l.94 2.06.94-2.06 2.06-.94-2.06-.94-.94-2.06-.94 2.06-2.06.94z\"/><path d=\"M17.41 7.96l-1.37-1.37c-.4-.4-.92-.59-1.43-.59-.52 0-1.04.2-1.43.59L10.3 9.45l-7.72 7.72c-.78.78-.78 2.05 0 2.83L4 21.41c.39.39.9.59 1.41.59.51 0 1.02-.2 1.41-.59l7.78-7.78 2.81-2.81c.8-.78.8-2.07 0-2.86zM5.41 20L4 18.59l7.72-7.72 1.47 1.35L5.41 20z\"/>\n",
              "  </svg>\n",
              "      </button>\n",
              "      \n",
              "  <style>\n",
              "    .colab-df-container {\n",
              "      display:flex;\n",
              "      flex-wrap:wrap;\n",
              "      gap: 12px;\n",
              "    }\n",
              "\n",
              "    .colab-df-convert {\n",
              "      background-color: #E8F0FE;\n",
              "      border: none;\n",
              "      border-radius: 50%;\n",
              "      cursor: pointer;\n",
              "      display: none;\n",
              "      fill: #1967D2;\n",
              "      height: 32px;\n",
              "      padding: 0 0 0 0;\n",
              "      width: 32px;\n",
              "    }\n",
              "\n",
              "    .colab-df-convert:hover {\n",
              "      background-color: #E2EBFA;\n",
              "      box-shadow: 0px 1px 2px rgba(60, 64, 67, 0.3), 0px 1px 3px 1px rgba(60, 64, 67, 0.15);\n",
              "      fill: #174EA6;\n",
              "    }\n",
              "\n",
              "    [theme=dark] .colab-df-convert {\n",
              "      background-color: #3B4455;\n",
              "      fill: #D2E3FC;\n",
              "    }\n",
              "\n",
              "    [theme=dark] .colab-df-convert:hover {\n",
              "      background-color: #434B5C;\n",
              "      box-shadow: 0px 1px 3px 1px rgba(0, 0, 0, 0.15);\n",
              "      filter: drop-shadow(0px 1px 2px rgba(0, 0, 0, 0.3));\n",
              "      fill: #FFFFFF;\n",
              "    }\n",
              "  </style>\n",
              "\n",
              "      <script>\n",
              "        const buttonEl =\n",
              "          document.querySelector('#df-ca4136af-828a-4f31-83bc-00bb28e612cd button.colab-df-convert');\n",
              "        buttonEl.style.display =\n",
              "          google.colab.kernel.accessAllowed ? 'block' : 'none';\n",
              "\n",
              "        async function convertToInteractive(key) {\n",
              "          const element = document.querySelector('#df-ca4136af-828a-4f31-83bc-00bb28e612cd');\n",
              "          const dataTable =\n",
              "            await google.colab.kernel.invokeFunction('convertToInteractive',\n",
              "                                                     [key], {});\n",
              "          if (!dataTable) return;\n",
              "\n",
              "          const docLinkHtml = 'Like what you see? Visit the ' +\n",
              "            '<a target=\"_blank\" href=https://colab.research.google.com/notebooks/data_table.ipynb>data table notebook</a>'\n",
              "            + ' to learn more about interactive tables.';\n",
              "          element.innerHTML = '';\n",
              "          dataTable['output_type'] = 'display_data';\n",
              "          await google.colab.output.renderOutput(dataTable, element);\n",
              "          const docLink = document.createElement('div');\n",
              "          docLink.innerHTML = docLinkHtml;\n",
              "          element.appendChild(docLink);\n",
              "        }\n",
              "      </script>\n",
              "    </div>\n",
              "  </div>\n",
              "  "
            ]
          },
          "metadata": {},
          "execution_count": 14
        }
      ]
    },
    {
      "cell_type": "code",
      "source": [
        "anime_df.drop_duplicates(inplace = True)"
      ],
      "metadata": {
        "id": "kbNEyaQ_pN1f"
      },
      "execution_count": null,
      "outputs": []
    },
    {
      "cell_type": "code",
      "source": [
        "anime_df[\"genres\"].value_counts()"
      ],
      "metadata": {
        "colab": {
          "base_uri": "https://localhost:8080/"
        },
        "id": "daYC413Ljg-o",
        "outputId": "1554c777-da3e-4343-d81d-25f97fcd7ab1"
      },
      "execution_count": null,
      "outputs": [
        {
          "output_type": "execute_result",
          "data": {
            "text/plain": [
              "Comedy, Slice of Life,                       52\n",
              "Comedy,Schools,Slice of Life,                42\n",
              "Comedy,                                      33\n",
              "Music,                                       28\n",
              "Action,Fantasy,                              19\n",
              "                                             ..\n",
              "Drama,Fantasy,Magic,Romance,Supernatural,     1\n",
              "Science Fiction, Comedy, Ecchi, Shounen,      1\n",
              "Mystery,Romance,Supernatural,Vampires,        1\n",
              "Action,Adventure,Comedy,Ecchi,                1\n",
              "Action, Fantasy, Shounen,                     1\n",
              "Name: genres, Length: 1626, dtype: int64"
            ]
          },
          "metadata": {},
          "execution_count": 16
        }
      ]
    },
    {
      "cell_type": "code",
      "source": [
        "anime_df[\"image\"].value_counts()"
      ],
      "metadata": {
        "id": "UxVq6iHNj8aW"
      },
      "execution_count": null,
      "outputs": []
    },
    {
      "cell_type": "code",
      "source": [
        "#import urllib.request\n",
        "\n",
        "#get_url= urllib.request.urlopen('https://www3.animeflv.net/uploads/animes/covers/3379.jpg')\n",
        "\n",
        "#print(\"Response Status: \"+ str(get_url.getcode()) )"
      ],
      "metadata": {
        "id": "s6zGgdgNkB_S"
      },
      "execution_count": null,
      "outputs": []
    },
    {
      "cell_type": "code",
      "source": [
        "anime_df[\"description\"] = [i.replace(\"'\",\"\")for i in anime_df[\"description\"]]\n",
        "anime_df[\"description\"] = [i.replace(\",\",\"\")for i in anime_df[\"description\"]]\n",
        "anime_df[\"description\"] = [i.replace('-',\"\")for i in anime_df[\"description\"]]\n",
        "anime_df[\"title\"] = [i.replace(\"Pelicula\",\"Movie\")for i in anime_df[\"title\"]]"
      ],
      "metadata": {
        "id": "3cFNvd5imPn3"
      },
      "execution_count": null,
      "outputs": []
    },
    {
      "cell_type": "code",
      "source": [
        "anime_df[\"title\"].head()"
      ],
      "metadata": {
        "colab": {
          "base_uri": "https://localhost:8080/"
        },
        "id": "_7Nr3Ucrm0qo",
        "outputId": "f3d0e911-323b-4ea9-947b-3e3834eb82cd"
      },
      "execution_count": null,
      "outputs": [
        {
          "output_type": "execute_result",
          "data": {
            "text/plain": [
              "1    Dragon Ball Z Movie 03: La batalla más grande ...\n",
              "2                                     Lodoss-tou Senki\n",
              "3                              Fushigi no Umi no Nadia\n",
              "4    Dragon Ball Z Movie 02: El hombre más fuerte d...\n",
              "5                                 Umezu Kazuo no Noroi\n",
              "Name: title, dtype: object"
            ]
          },
          "metadata": {},
          "execution_count": 19
        }
      ]
    },
    {
      "cell_type": "code",
      "source": [
        "anime_df[\"description\"]=anime_df[\"description\"].apply(lambda x:x.split())\n",
        "anime_df[\"genres\"]=anime_df[\"genres\"].apply(lambda x:x.split())"
      ],
      "metadata": {
        "id": "aUYi-vqwm18y"
      },
      "execution_count": null,
      "outputs": []
    },
    {
      "cell_type": "code",
      "source": [
        "anime_df['description'].head()"
      ],
      "metadata": {
        "colab": {
          "base_uri": "https://localhost:8080/"
        },
        "id": "ccEYtOHznC4O",
        "outputId": "e5e9ffc9-a386-4553-f57c-7be9c2115232"
      },
      "execution_count": null,
      "outputs": [
        {
          "output_type": "execute_result",
          "data": {
            "text/plain": [
              "0    [A, band, of, deserters, from, Friezas, army, ...\n",
              "1    [The, story, centers, around, a, young, man, n...\n",
              "2    [The, industrial, revolution, is, over, and, t...\n",
              "3    [The, situation, begins, with, Dr., Uir?, who,...\n",
              "4    [Two, separate, stories., In, the, first, titl...\n",
              "Name: description, dtype: object"
            ]
          },
          "metadata": {},
          "execution_count": 48
        }
      ]
    },
    {
      "cell_type": "code",
      "source": [
        "anime_df['genres'].head()"
      ],
      "metadata": {
        "colab": {
          "base_uri": "https://localhost:8080/"
        },
        "id": "wyRFTwkAnLvK",
        "outputId": "8972a1d3-24f7-4056-8bee-220165e8cf23"
      },
      "execution_count": null,
      "outputs": [
        {
          "output_type": "execute_result",
          "data": {
            "text/plain": [
              "0    [Adventure,Science, Fiction,Comedy,Fantasy,Sho...\n",
              "1    [Action,Adventure,Fantasy,Magic,Shounen,Supern...\n",
              "2    [Adventure,Science, Fiction,Comedy,Historical,...\n",
              "3    [Adventure,Science, Fiction,Comedy,Fantasy,Sho...\n",
              "4                                            [Terror,]\n",
              "Name: genres, dtype: object"
            ]
          },
          "metadata": {},
          "execution_count": 49
        }
      ]
    },
    {
      "cell_type": "code",
      "source": [
        "#anime_df['title'] = data_frame['title']"
      ],
      "metadata": {
        "id": "6ZModKSpx6ps"
      },
      "execution_count": null,
      "outputs": []
    },
    {
      "cell_type": "code",
      "source": [
        "anime_df[\"tags\"] = anime_df['description'] + anime_df['genres']"
      ],
      "metadata": {
        "id": "6FWyMOYuoAp0"
      },
      "execution_count": null,
      "outputs": []
    },
    {
      "cell_type": "code",
      "source": [
        "anime_df.isna().sum()"
      ],
      "metadata": {
        "colab": {
          "base_uri": "https://localhost:8080/"
        },
        "id": "sCXl8ULhoNNX",
        "outputId": "e63ac24e-8ae8-4a83-c639-b7f11f91c1d9"
      },
      "execution_count": null,
      "outputs": [
        {
          "output_type": "execute_result",
          "data": {
            "text/plain": [
              "title          0\n",
              "description    0\n",
              "genres         0\n",
              "image          0\n",
              "tags           0\n",
              "dtype: int64"
            ]
          },
          "metadata": {},
          "execution_count": 51
        }
      ]
    },
    {
      "cell_type": "code",
      "source": [
        "#multi_chars = \"[']\"\n",
        "#def convert(lst , sym): \n",
        " #for i in lst:\n",
        "  #temp_string = i\n",
        "  #for ch in sym:\n",
        "    #temp_string = temp_string.replace(ch,\"\")\n",
        "    #for j in temp_string:\n",
        "      #dta = []\n",
        "      #dta.append(j)\n",
        " #return dta "
      ],
      "metadata": {
        "id": "_MI8iIkSoQD-"
      },
      "execution_count": null,
      "outputs": []
    },
    {
      "cell_type": "code",
      "source": [
        "anime_df[\"tags\"]=anime_df[\"tags\"].apply(lambda x:[i.replace(\" \",\"\")for i in x])\n",
        "anime_df[\"tags\"] = anime_df[\"tags\"].apply(lambda x:\" \".join(x))"
      ],
      "metadata": {
        "id": "yVMRccOkoYfo"
      },
      "execution_count": null,
      "outputs": []
    },
    {
      "cell_type": "code",
      "source": [
        "anime_df.head()"
      ],
      "metadata": {
        "colab": {
          "base_uri": "https://localhost:8080/",
          "height": 458
        },
        "id": "NTfa8LYyno0e",
        "outputId": "5c720ebe-83b7-4f77-bfa9-c172d07aeff1"
      },
      "execution_count": null,
      "outputs": [
        {
          "output_type": "execute_result",
          "data": {
            "text/plain": [
              "                                               title  \\\n",
              "0  Dragon Ball Z Movie 03: La batalla más grande ...   \n",
              "1                                   Lodoss-tou Senki   \n",
              "2                            Fushigi no Umi no Nadia   \n",
              "3  Dragon Ball Z Movie 02: El hombre más fuerte d...   \n",
              "4                               Umezu Kazuo no Noroi   \n",
              "\n",
              "                                         description  \\\n",
              "0  [A, band, of, deserters, from, Friezas, army, ...   \n",
              "1  [The, story, centers, around, a, young, man, n...   \n",
              "2  [The, industrial, revolution, is, over, and, t...   \n",
              "3  [The, situation, begins, with, Dr., Uir?, who,...   \n",
              "4  [Two, separate, stories., In, the, first, titl...   \n",
              "\n",
              "                                              genres  \\\n",
              "0  [Adventure,Science, Fiction,Comedy,Fantasy,Sho...   \n",
              "1  [Action,Adventure,Fantasy,Magic,Shounen,Supern...   \n",
              "2  [Adventure,Science, Fiction,Comedy,Historical,...   \n",
              "3  [Adventure,Science, Fiction,Comedy,Fantasy,Sho...   \n",
              "4                                          [Terror,]   \n",
              "\n",
              "                                               image  \\\n",
              "0  https://www3.animeflv.net/uploads/animes/cover...   \n",
              "1  https://www3.animeflv.net/uploads/animes/cover...   \n",
              "2  https://www3.animeflv.net/uploads/animes/cover...   \n",
              "3  https://www3.animeflv.net/uploads/animes/cover...   \n",
              "4  https://www3.animeflv.net/uploads/animes/cover...   \n",
              "\n",
              "                                                tags  \n",
              "0  A band of deserters from Friezas army led by t...  \n",
              "1  The story centers around a young man named Par...  \n",
              "2  The industrial revolution is over and the worl...  \n",
              "3  The situation begins with Dr. Uir? who is revi...  \n",
              "4  Two separate stories. In the first titled \"Wha...  "
            ],
            "text/html": [
              "\n",
              "  <div id=\"df-956ba17c-1b3a-47ab-ac23-eed924b70b54\">\n",
              "    <div class=\"colab-df-container\">\n",
              "      <div>\n",
              "<style scoped>\n",
              "    .dataframe tbody tr th:only-of-type {\n",
              "        vertical-align: middle;\n",
              "    }\n",
              "\n",
              "    .dataframe tbody tr th {\n",
              "        vertical-align: top;\n",
              "    }\n",
              "\n",
              "    .dataframe thead th {\n",
              "        text-align: right;\n",
              "    }\n",
              "</style>\n",
              "<table border=\"1\" class=\"dataframe\">\n",
              "  <thead>\n",
              "    <tr style=\"text-align: right;\">\n",
              "      <th></th>\n",
              "      <th>title</th>\n",
              "      <th>description</th>\n",
              "      <th>genres</th>\n",
              "      <th>image</th>\n",
              "      <th>tags</th>\n",
              "    </tr>\n",
              "  </thead>\n",
              "  <tbody>\n",
              "    <tr>\n",
              "      <th>0</th>\n",
              "      <td>Dragon Ball Z Movie 03: La batalla más grande ...</td>\n",
              "      <td>[A, band, of, deserters, from, Friezas, army, ...</td>\n",
              "      <td>[Adventure,Science, Fiction,Comedy,Fantasy,Sho...</td>\n",
              "      <td>https://www3.animeflv.net/uploads/animes/cover...</td>\n",
              "      <td>A band of deserters from Friezas army led by t...</td>\n",
              "    </tr>\n",
              "    <tr>\n",
              "      <th>1</th>\n",
              "      <td>Lodoss-tou Senki</td>\n",
              "      <td>[The, story, centers, around, a, young, man, n...</td>\n",
              "      <td>[Action,Adventure,Fantasy,Magic,Shounen,Supern...</td>\n",
              "      <td>https://www3.animeflv.net/uploads/animes/cover...</td>\n",
              "      <td>The story centers around a young man named Par...</td>\n",
              "    </tr>\n",
              "    <tr>\n",
              "      <th>2</th>\n",
              "      <td>Fushigi no Umi no Nadia</td>\n",
              "      <td>[The, industrial, revolution, is, over, and, t...</td>\n",
              "      <td>[Adventure,Science, Fiction,Comedy,Historical,...</td>\n",
              "      <td>https://www3.animeflv.net/uploads/animes/cover...</td>\n",
              "      <td>The industrial revolution is over and the worl...</td>\n",
              "    </tr>\n",
              "    <tr>\n",
              "      <th>3</th>\n",
              "      <td>Dragon Ball Z Movie 02: El hombre más fuerte d...</td>\n",
              "      <td>[The, situation, begins, with, Dr., Uir?, who,...</td>\n",
              "      <td>[Adventure,Science, Fiction,Comedy,Fantasy,Sho...</td>\n",
              "      <td>https://www3.animeflv.net/uploads/animes/cover...</td>\n",
              "      <td>The situation begins with Dr. Uir? who is revi...</td>\n",
              "    </tr>\n",
              "    <tr>\n",
              "      <th>4</th>\n",
              "      <td>Umezu Kazuo no Noroi</td>\n",
              "      <td>[Two, separate, stories., In, the, first, titl...</td>\n",
              "      <td>[Terror,]</td>\n",
              "      <td>https://www3.animeflv.net/uploads/animes/cover...</td>\n",
              "      <td>Two separate stories. In the first titled \"Wha...</td>\n",
              "    </tr>\n",
              "  </tbody>\n",
              "</table>\n",
              "</div>\n",
              "      <button class=\"colab-df-convert\" onclick=\"convertToInteractive('df-956ba17c-1b3a-47ab-ac23-eed924b70b54')\"\n",
              "              title=\"Convert this dataframe to an interactive table.\"\n",
              "              style=\"display:none;\">\n",
              "        \n",
              "  <svg xmlns=\"http://www.w3.org/2000/svg\" height=\"24px\"viewBox=\"0 0 24 24\"\n",
              "       width=\"24px\">\n",
              "    <path d=\"M0 0h24v24H0V0z\" fill=\"none\"/>\n",
              "    <path d=\"M18.56 5.44l.94 2.06.94-2.06 2.06-.94-2.06-.94-.94-2.06-.94 2.06-2.06.94zm-11 1L8.5 8.5l.94-2.06 2.06-.94-2.06-.94L8.5 2.5l-.94 2.06-2.06.94zm10 10l.94 2.06.94-2.06 2.06-.94-2.06-.94-.94-2.06-.94 2.06-2.06.94z\"/><path d=\"M17.41 7.96l-1.37-1.37c-.4-.4-.92-.59-1.43-.59-.52 0-1.04.2-1.43.59L10.3 9.45l-7.72 7.72c-.78.78-.78 2.05 0 2.83L4 21.41c.39.39.9.59 1.41.59.51 0 1.02-.2 1.41-.59l7.78-7.78 2.81-2.81c.8-.78.8-2.07 0-2.86zM5.41 20L4 18.59l7.72-7.72 1.47 1.35L5.41 20z\"/>\n",
              "  </svg>\n",
              "      </button>\n",
              "      \n",
              "  <style>\n",
              "    .colab-df-container {\n",
              "      display:flex;\n",
              "      flex-wrap:wrap;\n",
              "      gap: 12px;\n",
              "    }\n",
              "\n",
              "    .colab-df-convert {\n",
              "      background-color: #E8F0FE;\n",
              "      border: none;\n",
              "      border-radius: 50%;\n",
              "      cursor: pointer;\n",
              "      display: none;\n",
              "      fill: #1967D2;\n",
              "      height: 32px;\n",
              "      padding: 0 0 0 0;\n",
              "      width: 32px;\n",
              "    }\n",
              "\n",
              "    .colab-df-convert:hover {\n",
              "      background-color: #E2EBFA;\n",
              "      box-shadow: 0px 1px 2px rgba(60, 64, 67, 0.3), 0px 1px 3px 1px rgba(60, 64, 67, 0.15);\n",
              "      fill: #174EA6;\n",
              "    }\n",
              "\n",
              "    [theme=dark] .colab-df-convert {\n",
              "      background-color: #3B4455;\n",
              "      fill: #D2E3FC;\n",
              "    }\n",
              "\n",
              "    [theme=dark] .colab-df-convert:hover {\n",
              "      background-color: #434B5C;\n",
              "      box-shadow: 0px 1px 3px 1px rgba(0, 0, 0, 0.15);\n",
              "      filter: drop-shadow(0px 1px 2px rgba(0, 0, 0, 0.3));\n",
              "      fill: #FFFFFF;\n",
              "    }\n",
              "  </style>\n",
              "\n",
              "      <script>\n",
              "        const buttonEl =\n",
              "          document.querySelector('#df-956ba17c-1b3a-47ab-ac23-eed924b70b54 button.colab-df-convert');\n",
              "        buttonEl.style.display =\n",
              "          google.colab.kernel.accessAllowed ? 'block' : 'none';\n",
              "\n",
              "        async function convertToInteractive(key) {\n",
              "          const element = document.querySelector('#df-956ba17c-1b3a-47ab-ac23-eed924b70b54');\n",
              "          const dataTable =\n",
              "            await google.colab.kernel.invokeFunction('convertToInteractive',\n",
              "                                                     [key], {});\n",
              "          if (!dataTable) return;\n",
              "\n",
              "          const docLinkHtml = 'Like what you see? Visit the ' +\n",
              "            '<a target=\"_blank\" href=https://colab.research.google.com/notebooks/data_table.ipynb>data table notebook</a>'\n",
              "            + ' to learn more about interactive tables.';\n",
              "          element.innerHTML = '';\n",
              "          dataTable['output_type'] = 'display_data';\n",
              "          await google.colab.output.renderOutput(dataTable, element);\n",
              "          const docLink = document.createElement('div');\n",
              "          docLink.innerHTML = docLinkHtml;\n",
              "          element.appendChild(docLink);\n",
              "        }\n",
              "      </script>\n",
              "    </div>\n",
              "  </div>\n",
              "  "
            ]
          },
          "metadata": {},
          "execution_count": 54
        }
      ]
    },
    {
      "cell_type": "code",
      "source": [
        "anime_df=anime_df.reset_index(drop=True)"
      ],
      "metadata": {
        "id": "CrawozSRpF7Q"
      },
      "execution_count": null,
      "outputs": []
    },
    {
      "cell_type": "code",
      "source": [
        "animef_df = anime_df[[\"title\",\"tags\"]]"
      ],
      "metadata": {
        "id": "TtsSInX_qkbW"
      },
      "execution_count": null,
      "outputs": []
    },
    {
      "cell_type": "code",
      "source": [
        "animef_df.head()"
      ],
      "metadata": {
        "colab": {
          "base_uri": "https://localhost:8080/",
          "height": 206
        },
        "id": "DIcW8fF6nslu",
        "outputId": "1352e6e7-ce33-4378-8269-133d9021dfb1"
      },
      "execution_count": null,
      "outputs": [
        {
          "output_type": "execute_result",
          "data": {
            "text/plain": [
              "                                               title  \\\n",
              "0  Dragon Ball Z Movie 03: La batalla más grande ...   \n",
              "1                                   Lodoss-tou Senki   \n",
              "2                            Fushigi no Umi no Nadia   \n",
              "3  Dragon Ball Z Movie 02: El hombre más fuerte d...   \n",
              "4                               Umezu Kazuo no Noroi   \n",
              "\n",
              "                                                tags  \n",
              "0  A band of deserters from Friezas army led by t...  \n",
              "1  The story centers around a young man named Par...  \n",
              "2  The industrial revolution is over and the worl...  \n",
              "3  The situation begins with Dr. Uir? who is revi...  \n",
              "4  Two separate stories. In the first titled \"Wha...  "
            ],
            "text/html": [
              "\n",
              "  <div id=\"df-7dbce545-4e90-4b0c-ac03-9784b5781274\">\n",
              "    <div class=\"colab-df-container\">\n",
              "      <div>\n",
              "<style scoped>\n",
              "    .dataframe tbody tr th:only-of-type {\n",
              "        vertical-align: middle;\n",
              "    }\n",
              "\n",
              "    .dataframe tbody tr th {\n",
              "        vertical-align: top;\n",
              "    }\n",
              "\n",
              "    .dataframe thead th {\n",
              "        text-align: right;\n",
              "    }\n",
              "</style>\n",
              "<table border=\"1\" class=\"dataframe\">\n",
              "  <thead>\n",
              "    <tr style=\"text-align: right;\">\n",
              "      <th></th>\n",
              "      <th>title</th>\n",
              "      <th>tags</th>\n",
              "    </tr>\n",
              "  </thead>\n",
              "  <tbody>\n",
              "    <tr>\n",
              "      <th>0</th>\n",
              "      <td>Dragon Ball Z Movie 03: La batalla más grande ...</td>\n",
              "      <td>A band of deserters from Friezas army led by t...</td>\n",
              "    </tr>\n",
              "    <tr>\n",
              "      <th>1</th>\n",
              "      <td>Lodoss-tou Senki</td>\n",
              "      <td>The story centers around a young man named Par...</td>\n",
              "    </tr>\n",
              "    <tr>\n",
              "      <th>2</th>\n",
              "      <td>Fushigi no Umi no Nadia</td>\n",
              "      <td>The industrial revolution is over and the worl...</td>\n",
              "    </tr>\n",
              "    <tr>\n",
              "      <th>3</th>\n",
              "      <td>Dragon Ball Z Movie 02: El hombre más fuerte d...</td>\n",
              "      <td>The situation begins with Dr. Uir? who is revi...</td>\n",
              "    </tr>\n",
              "    <tr>\n",
              "      <th>4</th>\n",
              "      <td>Umezu Kazuo no Noroi</td>\n",
              "      <td>Two separate stories. In the first titled \"Wha...</td>\n",
              "    </tr>\n",
              "  </tbody>\n",
              "</table>\n",
              "</div>\n",
              "      <button class=\"colab-df-convert\" onclick=\"convertToInteractive('df-7dbce545-4e90-4b0c-ac03-9784b5781274')\"\n",
              "              title=\"Convert this dataframe to an interactive table.\"\n",
              "              style=\"display:none;\">\n",
              "        \n",
              "  <svg xmlns=\"http://www.w3.org/2000/svg\" height=\"24px\"viewBox=\"0 0 24 24\"\n",
              "       width=\"24px\">\n",
              "    <path d=\"M0 0h24v24H0V0z\" fill=\"none\"/>\n",
              "    <path d=\"M18.56 5.44l.94 2.06.94-2.06 2.06-.94-2.06-.94-.94-2.06-.94 2.06-2.06.94zm-11 1L8.5 8.5l.94-2.06 2.06-.94-2.06-.94L8.5 2.5l-.94 2.06-2.06.94zm10 10l.94 2.06.94-2.06 2.06-.94-2.06-.94-.94-2.06-.94 2.06-2.06.94z\"/><path d=\"M17.41 7.96l-1.37-1.37c-.4-.4-.92-.59-1.43-.59-.52 0-1.04.2-1.43.59L10.3 9.45l-7.72 7.72c-.78.78-.78 2.05 0 2.83L4 21.41c.39.39.9.59 1.41.59.51 0 1.02-.2 1.41-.59l7.78-7.78 2.81-2.81c.8-.78.8-2.07 0-2.86zM5.41 20L4 18.59l7.72-7.72 1.47 1.35L5.41 20z\"/>\n",
              "  </svg>\n",
              "      </button>\n",
              "      \n",
              "  <style>\n",
              "    .colab-df-container {\n",
              "      display:flex;\n",
              "      flex-wrap:wrap;\n",
              "      gap: 12px;\n",
              "    }\n",
              "\n",
              "    .colab-df-convert {\n",
              "      background-color: #E8F0FE;\n",
              "      border: none;\n",
              "      border-radius: 50%;\n",
              "      cursor: pointer;\n",
              "      display: none;\n",
              "      fill: #1967D2;\n",
              "      height: 32px;\n",
              "      padding: 0 0 0 0;\n",
              "      width: 32px;\n",
              "    }\n",
              "\n",
              "    .colab-df-convert:hover {\n",
              "      background-color: #E2EBFA;\n",
              "      box-shadow: 0px 1px 2px rgba(60, 64, 67, 0.3), 0px 1px 3px 1px rgba(60, 64, 67, 0.15);\n",
              "      fill: #174EA6;\n",
              "    }\n",
              "\n",
              "    [theme=dark] .colab-df-convert {\n",
              "      background-color: #3B4455;\n",
              "      fill: #D2E3FC;\n",
              "    }\n",
              "\n",
              "    [theme=dark] .colab-df-convert:hover {\n",
              "      background-color: #434B5C;\n",
              "      box-shadow: 0px 1px 3px 1px rgba(0, 0, 0, 0.15);\n",
              "      filter: drop-shadow(0px 1px 2px rgba(0, 0, 0, 0.3));\n",
              "      fill: #FFFFFF;\n",
              "    }\n",
              "  </style>\n",
              "\n",
              "      <script>\n",
              "        const buttonEl =\n",
              "          document.querySelector('#df-7dbce545-4e90-4b0c-ac03-9784b5781274 button.colab-df-convert');\n",
              "        buttonEl.style.display =\n",
              "          google.colab.kernel.accessAllowed ? 'block' : 'none';\n",
              "\n",
              "        async function convertToInteractive(key) {\n",
              "          const element = document.querySelector('#df-7dbce545-4e90-4b0c-ac03-9784b5781274');\n",
              "          const dataTable =\n",
              "            await google.colab.kernel.invokeFunction('convertToInteractive',\n",
              "                                                     [key], {});\n",
              "          if (!dataTable) return;\n",
              "\n",
              "          const docLinkHtml = 'Like what you see? Visit the ' +\n",
              "            '<a target=\"_blank\" href=https://colab.research.google.com/notebooks/data_table.ipynb>data table notebook</a>'\n",
              "            + ' to learn more about interactive tables.';\n",
              "          element.innerHTML = '';\n",
              "          dataTable['output_type'] = 'display_data';\n",
              "          await google.colab.output.renderOutput(dataTable, element);\n",
              "          const docLink = document.createElement('div');\n",
              "          docLink.innerHTML = docLinkHtml;\n",
              "          element.appendChild(docLink);\n",
              "        }\n",
              "      </script>\n",
              "    </div>\n",
              "  </div>\n",
              "  "
            ]
          },
          "metadata": {},
          "execution_count": 56
        }
      ]
    },
    {
      "cell_type": "code",
      "source": [
        "animef_df[\"tags\"] = anime_df[\"tags\"].apply(lambda x:x.lower())"
      ],
      "metadata": {
        "id": "Lb7_wL3oqpQ3",
        "colab": {
          "base_uri": "https://localhost:8080/"
        },
        "outputId": "ac5655fc-bfd5-4d7f-9f5a-fe0a990d6866"
      },
      "execution_count": null,
      "outputs": [
        {
          "output_type": "stream",
          "name": "stderr",
          "text": [
            "/usr/local/lib/python3.7/dist-packages/ipykernel_launcher.py:1: SettingWithCopyWarning: \n",
            "A value is trying to be set on a copy of a slice from a DataFrame.\n",
            "Try using .loc[row_indexer,col_indexer] = value instead\n",
            "\n",
            "See the caveats in the documentation: https://pandas.pydata.org/pandas-docs/stable/user_guide/indexing.html#returning-a-view-versus-a-copy\n",
            "  \"\"\"Entry point for launching an IPython kernel.\n"
          ]
        }
      ]
    },
    {
      "cell_type": "code",
      "source": [
        "from sklearn.feature_extraction.text import CountVectorizer\n",
        "cv=CountVectorizer(max_features=4000,stop_words=\"english\")\n",
        "from nltk.stem.porter import PorterStemmer \n",
        "ps=PorterStemmer()"
      ],
      "metadata": {
        "id": "LnrfTBt3q0g4"
      },
      "execution_count": null,
      "outputs": []
    },
    {
      "cell_type": "code",
      "source": [
        "ps.stem(\"abilities\")"
      ],
      "metadata": {
        "colab": {
          "base_uri": "https://localhost:8080/",
          "height": 36
        },
        "id": "5v9J6hjMrSSv",
        "outputId": "38292f2a-7625-4498-f512-d483ea72566b"
      },
      "execution_count": null,
      "outputs": [
        {
          "output_type": "execute_result",
          "data": {
            "text/plain": [
              "'abil'"
            ],
            "application/vnd.google.colaboratory.intrinsic+json": {
              "type": "string"
            }
          },
          "metadata": {},
          "execution_count": 59
        }
      ]
    },
    {
      "cell_type": "code",
      "source": [
        "def stem(text):\n",
        "  y=[]\n",
        "\n",
        "  for i in text.split():\n",
        "    y.append(ps.stem(i))\n",
        "\n",
        "  return \" \".join(y) "
      ],
      "metadata": {
        "id": "GzceMt3brWWn"
      },
      "execution_count": null,
      "outputs": []
    },
    {
      "cell_type": "code",
      "source": [
        "animef_df[\"tags\"][1]"
      ],
      "metadata": {
        "colab": {
          "base_uri": "https://localhost:8080/",
          "height": 128
        },
        "id": "ihXhaKsQnahw",
        "outputId": "28950439-52f1-41c2-a602-d8193933cf19"
      },
      "execution_count": null,
      "outputs": [
        {
          "output_type": "execute_result",
          "data": {
            "text/plain": [
              "'the story centers around a young man named parn the son of a disgraced knight. part of this motivation to venture out is to find out what happened to his father and restore his familys honor. despite his inexperience parn is considered the leader who is accompanied by his best friend a forest boy named etoh his friend and sometimes advisor slayn (and later slayns lover leylia) and his new mentor ghim. . they are joined by parns romantic interest the high elf deedlit who comes from the forest of no return seeking a solution to her peoples isolationism and an end to extinction. throughout the series parn comes into contact with his friends and his enemies alike. his allies including king kashue fahn shiris and orson; his enemies including emperor beld ashram and the evil ghoul wagnard. action,adventure,fantasy,magic,shounen,supernatural,'"
            ],
            "application/vnd.google.colaboratory.intrinsic+json": {
              "type": "string"
            }
          },
          "metadata": {},
          "execution_count": 61
        }
      ]
    },
    {
      "cell_type": "code",
      "source": [
        "stem(animef_df[\"tags\"][1])"
      ],
      "metadata": {
        "colab": {
          "base_uri": "https://localhost:8080/",
          "height": 128
        },
        "id": "Phhn6uCfredp",
        "outputId": "487216b3-b380-4382-d6eb-41e4aeb419e3"
      },
      "execution_count": null,
      "outputs": [
        {
          "output_type": "execute_result",
          "data": {
            "text/plain": [
              "'the stori center around a young man name parn the son of a disgrac knight. part of thi motiv to ventur out is to find out what happen to hi father and restor hi famili honor. despit hi inexperi parn is consid the leader who is accompani by hi best friend a forest boy name etoh hi friend and sometim advisor slayn (and later slayn lover leylia) and hi new mentor ghim. . they are join by parn romant interest the high elf deedlit who come from the forest of no return seek a solut to her peopl isolation and an end to extinction. throughout the seri parn come into contact with hi friend and hi enemi alike. hi alli includ king kashu fahn shiri and orson; hi enemi includ emperor beld ashram and the evil ghoul wagnard. action,adventure,fantasy,magic,shounen,supernatural,'"
            ],
            "application/vnd.google.colaboratory.intrinsic+json": {
              "type": "string"
            }
          },
          "metadata": {},
          "execution_count": 62
        }
      ]
    },
    {
      "cell_type": "code",
      "source": [
        "animef_df[\"tags\"]=animef_df[\"tags\"].apply(stem)"
      ],
      "metadata": {
        "id": "uP1Y2jvnsHz7"
      },
      "execution_count": null,
      "outputs": []
    },
    {
      "cell_type": "code",
      "source": [
        "vectors = cv.fit_transform(animef_df[\"tags\"]).toarray()"
      ],
      "metadata": {
        "id": "sc4uo9M1scTO"
      },
      "execution_count": null,
      "outputs": []
    },
    {
      "cell_type": "code",
      "source": [
        "from sklearn.metrics.pairwise import cosine_similarity\n",
        "cosine_similarity(vectors).shape"
      ],
      "metadata": {
        "colab": {
          "base_uri": "https://localhost:8080/"
        },
        "id": "5hMmBliLsgz5",
        "outputId": "da36d207-bb91-4db2-83aa-4fe994381cfc"
      },
      "execution_count": null,
      "outputs": [
        {
          "output_type": "execute_result",
          "data": {
            "text/plain": [
              "(3182, 3182)"
            ]
          },
          "metadata": {},
          "execution_count": 65
        }
      ]
    },
    {
      "cell_type": "code",
      "source": [
        "similarity = cosine_similarity(vectors)"
      ],
      "metadata": {
        "id": "tPkiF7Vpsji2"
      },
      "execution_count": null,
      "outputs": []
    },
    {
      "cell_type": "code",
      "source": [
        "similarity[0]"
      ],
      "metadata": {
        "colab": {
          "base_uri": "https://localhost:8080/"
        },
        "id": "q81m2YBlsnPe",
        "outputId": "46061f20-4937-41c3-90b6-b47724f1e997"
      },
      "execution_count": null,
      "outputs": [
        {
          "output_type": "execute_result",
          "data": {
            "text/plain": [
              "array([1.        , 0.04352858, 0.11795356, ..., 0.07878386, 0.02519763,\n",
              "       0.14342743])"
            ]
          },
          "metadata": {},
          "execution_count": 67
        }
      ]
    },
    {
      "cell_type": "code",
      "source": [
        "sorted(list(enumerate(similarity[0])),reverse=True,key=lambda x:x[1])"
      ],
      "metadata": {
        "id": "VxZ5PqK_srPx"
      },
      "execution_count": null,
      "outputs": []
    },
    {
      "cell_type": "code",
      "source": [
        "def recommend(anime):\n",
        "  anime_index = animef_df[animef_df['title']==anime].index[0]\n",
        "  distances = similarity[anime_index]\n",
        "  anime_list = sorted(list(enumerate(distances)),reverse=True,key=lambda x:x[1])[1:6]\n",
        "\n",
        "  for i in anime_list:\n",
        "    print(animef_df.iloc[i[0]].title)"
      ],
      "metadata": {
        "id": "nnDHh-M7suas"
      },
      "execution_count": null,
      "outputs": []
    },
    {
      "cell_type": "code",
      "source": [
        "recommend('Fushigi no Umi no Nadia')"
      ],
      "metadata": {
        "colab": {
          "base_uri": "https://localhost:8080/"
        },
        "id": "NIRklyDdtCd6",
        "outputId": "f840ace1-53be-4c2c-f52f-e1adac1f5907"
      },
      "execution_count": null,
      "outputs": [
        {
          "output_type": "stream",
          "name": "stdout",
          "text": [
            "Houkago Saikoro Club\n",
            "Mai-HiME\n",
            "Ima, Soko ni Iru Boku\n",
            "Hi-sCoool! SeHa Girl\n",
            "Maho Shojo Madoka Magica\n"
          ]
        }
      ]
    },
    {
      "cell_type": "code",
      "source": [
        "import pickle \n",
        "pickle.dump(animef_df.to_dict(),open('anime_dict.pkl','wb'))\n",
        "pickle.dump(animef_df,open('anime.pkl','wb'))\n",
        "pickle.dump(similarity,open('similarity.pkl','wb'))"
      ],
      "metadata": {
        "id": "8vmdozZmtE4Q"
      },
      "execution_count": null,
      "outputs": []
    },
    {
      "cell_type": "code",
      "source": [
        "pickle.dump(image_urls,open('image_urls.pkl','wb'))"
      ],
      "metadata": {
        "id": "DDQkDNusILMA"
      },
      "execution_count": null,
      "outputs": []
    },
    {
      "cell_type": "code",
      "source": [
        "image_urls[0]"
      ],
      "metadata": {
        "id": "k3BQRSzoIYQL"
      },
      "execution_count": null,
      "outputs": []
    }
  ]
}