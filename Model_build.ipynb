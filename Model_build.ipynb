{
  "nbformat": 4,
  "nbformat_minor": 0,
  "metadata": {
    "colab": {
      "provenance": [],
      "collapsed_sections": [],
      "authorship_tag": "ABX9TyMyC9VP5zAM+TTTsTPUk+g1",
      "include_colab_link": true
    },
    "kernelspec": {
      "name": "python3",
      "display_name": "Python 3"
    },
    "language_info": {
      "name": "python"
    }
  },
  "cells": [
    {
      "cell_type": "markdown",
      "metadata": {
        "id": "view-in-github",
        "colab_type": "text"
      },
      "source": [
        "<a href=\"https://colab.research.google.com/github/pranavvp16/AnimeOnly/blob/main/Model_build.ipynb\" target=\"_parent\"><img src=\"https://colab.research.google.com/assets/colab-badge.svg\" alt=\"Open In Colab\"/></a>"
      ]
    },
    {
      "cell_type": "code",
      "execution_count": null,
      "metadata": {
        "id": "DVobujd7WmWf"
      },
      "outputs": [],
      "source": [
        "import numpy as np\n",
        "import pandas as pd "
      ]
    },
    {
      "cell_type": "code",
      "source": [
        "#from google.colab import drive\n",
        "#drive.mount('/content/drive')"
      ],
      "metadata": {
        "id": "3Oqd49_2Wumn"
      },
      "execution_count": null,
      "outputs": []
    },
    {
      "cell_type": "code",
      "source": [
        "#data_frame = pd.read_csv(\"drive/MyDrive/animeflv.csv\")\n",
        "data_frame = pd.read_scv(\"data/animeflv.csv\")"
      ],
      "metadata": {
        "id": "PDxnTII6W3C1"
      },
      "execution_count": null,
      "outputs": []
    },
    {
      "cell_type": "code",
      "source": [
        "data_frame.info()"
      ],
      "metadata": {
        "id": "1evjYJV8YKKP"
      },
      "execution_count": null,
      "outputs": []
    },
    {
      "cell_type": "code",
      "source": [
        "tans=data_frame['description'][0]"
      ],
      "metadata": {
        "id": "QuuHHMtLYE7y"
      },
      "execution_count": null,
      "outputs": []
    },
    {
      "cell_type": "code",
      "source": [
        "data_frame.dropna(inplace=True)"
      ],
      "metadata": {
        "id": "UoM8q_UZdxfw"
      },
      "execution_count": null,
      "outputs": []
    },
    {
      "cell_type": "code",
      "source": [
        "#data_frame['description'].head()"
      ],
      "metadata": {
        "id": "wyRqJMJEfIZi"
      },
      "execution_count": null,
      "outputs": []
    },
    {
      "cell_type": "code",
      "source": [
        "pip install googletrans==3.1.0a0"
      ],
      "metadata": {
        "id": "1bTWOtbqblBD"
      },
      "execution_count": null,
      "outputs": []
    },
    {
      "cell_type": "code",
      "source": [
        "import googletrans\n",
        "translator = googletrans.Translator()\n",
        "df1 = data_frame['description'].apply(translator.translate, src='es', dest='en').apply(getattr, args=('text',))\n",
        "#print(df1)"
      ],
      "metadata": {
        "id": "Ir6jFc7sel-9"
      },
      "execution_count": null,
      "outputs": []
    },
    {
      "cell_type": "code",
      "source": [
        "data_frame[\"description\"] = df1"
      ],
      "metadata": {
        "id": "gwjtTI2obIws"
      },
      "execution_count": null,
      "outputs": []
    },
    {
      "cell_type": "code",
      "source": [
        "data_frame[\"genders\"] = data_frame['genders'].apply(translator.translate, src='es', dest='en').apply(getattr, args=('text',))"
      ],
      "metadata": {
        "id": "6nBM1zGffOUP"
      },
      "execution_count": null,
      "outputs": []
    },
    {
      "cell_type": "code",
      "source": [
        "data_frame.rename(columns ={'genders':'genres'},inplace = True)"
      ],
      "metadata": {
        "id": "cHh4OYR_gHWZ"
      },
      "execution_count": null,
      "outputs": []
    },
    {
      "cell_type": "code",
      "source": [
        "#taking data for training set \n",
        "anime_df = data_frame[[\"title\",\"description\",\"genres\",\"image\"]]"
      ],
      "metadata": {
        "id": "ZwbpiGdlhqVO"
      },
      "execution_count": null,
      "outputs": []
    },
    {
      "cell_type": "code",
      "source": [
        "anime_df.head()"
      ],
      "metadata": {
        "id": "QgmmDGjmjeHJ"
      },
      "execution_count": null,
      "outputs": []
    },
    {
      "cell_type": "code",
      "source": [
        "anime_df.drop_duplicates(inplace = True)"
      ],
      "metadata": {
        "id": "kbNEyaQ_pN1f"
      },
      "execution_count": null,
      "outputs": []
    },
    {
      "cell_type": "code",
      "source": [
        "anime_df[\"genres\"].value_counts()"
      ],
      "metadata": {
        "id": "daYC413Ljg-o"
      },
      "execution_count": null,
      "outputs": []
    },
    {
      "cell_type": "code",
      "source": [
        "anime_df[\"image\"].value_counts()"
      ],
      "metadata": {
        "id": "UxVq6iHNj8aW"
      },
      "execution_count": null,
      "outputs": []
    },
    {
      "cell_type": "code",
      "source": [
        "#import urllib.request\n",
        "\n",
        "#get_url= urllib.request.urlopen('https://www3.animeflv.net/uploads/animes/covers/3379.jpg')\n",
        "\n",
        "#print(\"Response Status: \"+ str(get_url.getcode()) )"
      ],
      "metadata": {
        "id": "s6zGgdgNkB_S"
      },
      "execution_count": null,
      "outputs": []
    },
    {
      "cell_type": "code",
      "source": [
        "anime_df[\"description\"] = [i.replace(\"'\",\"\")for i in anime_df[\"description\"]]\n",
        "anime_df[\"description\"] = [i.replace(\",\",\"\")for i in anime_df[\"description\"]]\n",
        "anime_df[\"description\"] = [i.replace('-',\"\")for i in anime_df[\"description\"]]\n",
        "anime_df[\"title\"] = [i.replace(\"Pelicula\",\"Movie\")for i in anime_df[\"title\"]]"
      ],
      "metadata": {
        "id": "3cFNvd5imPn3"
      },
      "execution_count": null,
      "outputs": []
    },
    {
      "cell_type": "code",
      "source": [
        "anime_df[\"title\"].head()"
      ],
      "metadata": {
        "id": "_7Nr3Ucrm0qo"
      },
      "execution_count": null,
      "outputs": []
    },
    {
      "cell_type": "code",
      "source": [
        "anime_df[\"description\"]=anime_df[\"description\"].apply(lambda x:x.split())\n",
        "anime_df[\"genres\"]=anime_df[\"genres\"].apply(lambda x:x.split())"
      ],
      "metadata": {
        "id": "aUYi-vqwm18y"
      },
      "execution_count": null,
      "outputs": []
    },
    {
      "cell_type": "code",
      "source": [
        "anime_df['description'].head()"
      ],
      "metadata": {
        "id": "ccEYtOHznC4O"
      },
      "execution_count": null,
      "outputs": []
    },
    {
      "cell_type": "code",
      "source": [
        "anime_df['genres'].head()"
      ],
      "metadata": {
        "id": "wyRFTwkAnLvK"
      },
      "execution_count": null,
      "outputs": []
    },
    {
      "cell_type": "code",
      "source": [
        "#anime_df['title'] = data_frame['title']"
      ],
      "metadata": {
        "id": "6ZModKSpx6ps"
      },
      "execution_count": null,
      "outputs": []
    },
    {
      "cell_type": "code",
      "source": [
        "anime_df[\"tags\"] = anime_df['description'] + anime_df['genres']"
      ],
      "metadata": {
        "id": "6FWyMOYuoAp0"
      },
      "execution_count": null,
      "outputs": []
    },
    {
      "cell_type": "code",
      "source": [
        "anime_df.isna().sum()"
      ],
      "metadata": {
        "id": "sCXl8ULhoNNX"
      },
      "execution_count": null,
      "outputs": []
    },
    {
      "cell_type": "code",
      "source": [
        "#multi_chars = \"[']\"\n",
        "#def convert(lst , sym): \n",
        " #for i in lst:\n",
        "  #temp_string = i\n",
        "  #for ch in sym:\n",
        "    #temp_string = temp_string.replace(ch,\"\")\n",
        "    #for j in temp_string:\n",
        "      #dta = []\n",
        "      #dta.append(j)\n",
        " #return dta "
      ],
      "metadata": {
        "id": "_MI8iIkSoQD-"
      },
      "execution_count": null,
      "outputs": []
    },
    {
      "cell_type": "code",
      "source": [
        "anime_df[\"tags\"]=anime_df[\"tags\"].apply(lambda x:[i.replace(\" \",\"\")for i in x])\n",
        "anime_df[\"tags\"] = anime_df[\"tags\"].apply(lambda x:\" \".join(x))"
      ],
      "metadata": {
        "id": "yVMRccOkoYfo"
      },
      "execution_count": null,
      "outputs": []
    },
    {
      "cell_type": "code",
      "source": [
        "anime_df.head()"
      ],
      "metadata": {
        "id": "NTfa8LYyno0e"
      },
      "execution_count": null,
      "outputs": []
    },
    {
      "cell_type": "code",
      "source": [
        "anime_df=anime_df.reset_index(drop=True)"
      ],
      "metadata": {
        "id": "CrawozSRpF7Q"
      },
      "execution_count": null,
      "outputs": []
    },
    {
      "cell_type": "code",
      "source": [
        "animef_df = anime_df[[\"title\",\"tags\"]]"
      ],
      "metadata": {
        "id": "TtsSInX_qkbW"
      },
      "execution_count": null,
      "outputs": []
    },
    {
      "cell_type": "code",
      "source": [
        "animef_df.head()"
      ],
      "metadata": {
        "id": "DIcW8fF6nslu"
      },
      "execution_count": null,
      "outputs": []
    },
    {
      "cell_type": "code",
      "source": [
        "animef_df[\"tags\"] = anime_df[\"tags\"].apply(lambda x:x.lower())"
      ],
      "metadata": {
        "id": "Lb7_wL3oqpQ3"
      },
      "execution_count": null,
      "outputs": []
    },
    {
      "cell_type": "code",
      "source": [
        "from sklearn.feature_extraction.text import CountVectorizer\n",
        "cv=CountVectorizer(max_features=4000,stop_words=\"english\")\n",
        "from nltk.stem.porter import PorterStemmer \n",
        "ps=PorterStemmer()"
      ],
      "metadata": {
        "id": "LnrfTBt3q0g4"
      },
      "execution_count": null,
      "outputs": []
    },
    {
      "cell_type": "code",
      "source": [
        "ps.stem(\"abilities\")"
      ],
      "metadata": {
        "id": "5v9J6hjMrSSv"
      },
      "execution_count": null,
      "outputs": []
    },
    {
      "cell_type": "code",
      "source": [
        "def stem(text):\n",
        "  y=[]\n",
        "\n",
        "  for i in text.split():\n",
        "    y.append(ps.stem(i))\n",
        "\n",
        "  return \" \".join(y) "
      ],
      "metadata": {
        "id": "GzceMt3brWWn"
      },
      "execution_count": null,
      "outputs": []
    },
    {
      "cell_type": "code",
      "source": [
        "animef_df[\"tags\"][1]"
      ],
      "metadata": {
        "id": "ihXhaKsQnahw"
      },
      "execution_count": null,
      "outputs": []
    },
    {
      "cell_type": "code",
      "source": [
        "stem(animef_df[\"tags\"][1])"
      ],
      "metadata": {
        "id": "Phhn6uCfredp"
      },
      "execution_count": null,
      "outputs": []
    },
    {
      "cell_type": "code",
      "source": [
        "animef_df[\"tags\"]=animef_df[\"tags\"].apply(stem)"
      ],
      "metadata": {
        "id": "uP1Y2jvnsHz7"
      },
      "execution_count": null,
      "outputs": []
    },
    {
      "cell_type": "code",
      "source": [
        "vectors = cv.fit_transform(animef_df[\"tags\"]).toarray()"
      ],
      "metadata": {
        "id": "sc4uo9M1scTO"
      },
      "execution_count": null,
      "outputs": []
    },
    {
      "cell_type": "code",
      "source": [
        "from sklearn.metrics.pairwise import cosine_similarity\n",
        "cosine_similarity(vectors).shape"
      ],
      "metadata": {
        "id": "5hMmBliLsgz5"
      },
      "execution_count": null,
      "outputs": []
    },
    {
      "cell_type": "code",
      "source": [
        "similarity = cosine_similarity(vectors)"
      ],
      "metadata": {
        "id": "tPkiF7Vpsji2"
      },
      "execution_count": null,
      "outputs": []
    },
    {
      "cell_type": "code",
      "source": [
        "similarity[0]"
      ],
      "metadata": {
        "id": "q81m2YBlsnPe"
      },
      "execution_count": null,
      "outputs": []
    },
    {
      "cell_type": "code",
      "source": [
        "sorted(list(enumerate(similarity[0])),reverse=True,key=lambda x:x[1])"
      ],
      "metadata": {
        "id": "VxZ5PqK_srPx"
      },
      "execution_count": null,
      "outputs": []
    },
    {
      "cell_type": "code",
      "source": [
        "def recommend(anime):\n",
        "  anime_index = animef_df[animef_df['title']==anime].index[0]\n",
        "  distances = similarity[anime_index]\n",
        "  anime_list = sorted(list(enumerate(distances)),reverse=True,key=lambda x:x[1])[1:6]\n",
        "\n",
        "  for i in anime_list:\n",
        "    print(animef_df.iloc[i[0]].title)"
      ],
      "metadata": {
        "id": "nnDHh-M7suas"
      },
      "execution_count": null,
      "outputs": []
    },
    {
      "cell_type": "code",
      "source": [
        "recommend('Fushigi no Umi no Nadia')"
      ],
      "metadata": {
        "id": "NIRklyDdtCd6"
      },
      "execution_count": null,
      "outputs": []
    },
    {
      "cell_type": "code",
      "source": [
        "import pickle \n",
        "pickle.dump(animef_df.to_dict(),open('anime_dict.pkl','wb'))\n",
        "pickle.dump(animef_df,open('anime.pkl','wb'))\n",
        "pickle.dump(similarity,open('similarity.pkl','wb'))"
      ],
      "metadata": {
        "id": "8vmdozZmtE4Q"
      },
      "execution_count": null,
      "outputs": []
    },
    {
      "cell_type": "code",
      "source": [
        "pickle.dump(image_urls,open('image_urls.pkl','wb'))"
      ],
      "metadata": {
        "id": "DDQkDNusILMA"
      },
      "execution_count": null,
      "outputs": []
    },
    {
      "cell_type": "code",
      "source": [
        "image_urls[0]"
      ],
      "metadata": {
        "id": "k3BQRSzoIYQL"
      },
      "execution_count": null,
      "outputs": []
    }
  ]
}